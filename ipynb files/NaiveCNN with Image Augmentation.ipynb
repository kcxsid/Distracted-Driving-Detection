{
 "cells": [
  {
   "cell_type": "markdown",
   "metadata": {},
   "source": [
    "# Binary classification using Transfer Learning"
   ]
  },
  {
   "cell_type": "markdown",
   "metadata": {},
   "source": [
    "Dataset with driver based train test and validation splits can be downloaded from\n",
    "https://drive.google.com/drive/folders/1X9lnSYqZspRQZBzZesDEMxsY-be_ka3Y?usp=sharing"
   ]
  },
  {
   "cell_type": "code",
   "execution_count": 1,
   "metadata": {
    "id": "tYhbx-Q02oAi"
   },
   "outputs": [],
   "source": [
    "# import the required libraries\n",
    "import os\n",
    "import tensorflow as tf\n",
    "from tensorflow.keras.layers import Input, Lambda, Dense, Flatten\n",
    "from tensorflow.keras.models import Model\n",
    "from tensorflow.keras.applications.vgg16 import VGG16\n",
    "from tensorflow.keras.applications.resnet50 import ResNet50\n",
    "from tensorflow.keras.preprocessing import image\n",
    "from tensorflow.keras.preprocessing.image import ImageDataGenerator,load_img, img_to_array\n",
    "from tensorflow.keras.models import Sequential\n",
    "\n",
    "import numpy as np\n",
    "from glob import glob\n",
    "import matplotlib.pyplot as plt\n",
    "import matplotlib.image as mpimg\n",
    "from tensorflow.keras.preprocessing.image import ImageDataGenerator\n",
    "from keras.applications.vgg16 import preprocess_input\n",
    "from sklearn.metrics import accuracy_score\n",
    "\n",
    "from keras.layers import Dense, Dropout, Flatten\n",
    "from keras.layers import Conv2D, MaxPooling2D\n",
    "from keras.layers import BatchNormalization\n",
    "from keras.preprocessing.image import DirectoryIterator\n",
    "from keras.callbacks import ModelCheckpoint"
   ]
  },
  {
   "cell_type": "code",
   "execution_count": 2,
   "metadata": {},
   "outputs": [
    {
     "name": "stdout",
     "output_type": "stream",
     "text": [
      "Num GPUs Available:  [PhysicalDevice(name='/physical_device:GPU:0', device_type='GPU')]\n"
     ]
    }
   ],
   "source": [
    "# Checking for GPU\n",
    "print(\"Num GPUs Available: \", tf.config.list_physical_devices('GPU'))"
   ]
  },
  {
   "cell_type": "markdown",
   "metadata": {},
   "source": [
    "## Using Naive CNN"
   ]
  },
  {
   "cell_type": "code",
   "execution_count": 21,
   "metadata": {},
   "outputs": [
    {
     "name": "stdout",
     "output_type": "stream",
     "text": [
      "Found 15585 images belonging to 2 classes.\n",
      "Found 3540 images belonging to 2 classes.\n",
      "Found 3299 images belonging to 2 classes.\n"
     ]
    }
   ],
   "source": [
    "scaler = ImageDataGenerator(rescale=1./255, validation_split=0.15)\n",
    "train = DirectoryIterator('full/',scaler, target_size=(224,224),color_mode='rgb', seed=1,  batch_size=50)\n",
    "val = DirectoryIterator('fullval/',scaler, target_size=(224,224),color_mode='rgb', seed=1,  batch_size=50)\n",
    "test = DirectoryIterator('fulltest/',scaler, target_size=(224,224),color_mode='rgb', seed=1,  batch_size=50)"
   ]
  },
  {
   "cell_type": "code",
   "execution_count": 33,
   "metadata": {},
   "outputs": [],
   "source": [
    "naive = Sequential()\n",
    "\n",
    "naive.add(Conv2D(32, kernel_size=(3, 3),activation='relu',input_shape=(224,224,3),padding = 'same'))\n",
    "naive.add(BatchNormalization())\n",
    "naive.add(Conv2D(32, kernel_size=(3, 3),activation='relu',input_shape=(224,224,3),padding = 'same'))\n",
    "naive.add(BatchNormalization())\n",
    "naive.add(MaxPooling2D(pool_size=(2, 2)))\n",
    "\n",
    "naive.add(Conv2D(64,kernel_size = (3,3),activation = 'relu',padding = 'same'))\n",
    "naive.add(BatchNormalization())\n",
    "naive.add(Conv2D(64,kernel_size = (3,3),activation = 'relu',padding = 'same'))\n",
    "naive.add(BatchNormalization())\n",
    "naive.add(MaxPooling2D(pool_size=(2, 2)))\n",
    "\n",
    "\n",
    "\n",
    "naive.add(Conv2D(128,kernel_size = (3,3),activation = 'relu',padding = 'same'))\n",
    "naive.add(BatchNormalization())\n",
    "naive.add(Conv2D(128,kernel_size = (3,3),activation = 'relu',padding = 'same'))\n",
    "naive.add(BatchNormalization())\n",
    "naive.add(MaxPooling2D(pool_size=(2, 2)))\n",
    "\n",
    "\n",
    "naive.add(Conv2D(256,kernel_size = (3,3),activation = 'relu',padding = 'same'))\n",
    "naive.add(BatchNormalization())\n",
    "naive.add(Conv2D(256,kernel_size = (3,3),activation = 'relu',padding = 'same'))\n",
    "naive.add(BatchNormalization())\n",
    "naive.add(MaxPooling2D(pool_size=(2, 2)))\n",
    "naive.add(Dropout(0.4))\n",
    "naive.add(Flatten())\n",
    "\n",
    "naive.add(Dense(128, activation = 'relu'))\n",
    "naive.add(Dense(128, activation = 'relu'))\n",
    "naive.add(Dense(2, activation='softmax'))\n",
    "\n",
    "naive.compile(loss='categorical_crossentropy',optimizer = 'adam' ,metrics=['accuracy'])"
   ]
  },
  {
   "cell_type": "code",
   "execution_count": 34,
   "metadata": {},
   "outputs": [
    {
     "name": "stdout",
     "output_type": "stream",
     "text": [
      "Model: \"sequential_2\"\n",
      "_________________________________________________________________\n",
      "Layer (type)                 Output Shape              Param #   \n",
      "=================================================================\n",
      "conv2d_16 (Conv2D)           (None, 224, 224, 32)      896       \n",
      "_________________________________________________________________\n",
      "batch_normalization_16 (Batc (None, 224, 224, 32)      128       \n",
      "_________________________________________________________________\n",
      "conv2d_17 (Conv2D)           (None, 224, 224, 32)      9248      \n",
      "_________________________________________________________________\n",
      "batch_normalization_17 (Batc (None, 224, 224, 32)      128       \n",
      "_________________________________________________________________\n",
      "max_pooling2d_8 (MaxPooling2 (None, 112, 112, 32)      0         \n",
      "_________________________________________________________________\n",
      "conv2d_18 (Conv2D)           (None, 112, 112, 64)      18496     \n",
      "_________________________________________________________________\n",
      "batch_normalization_18 (Batc (None, 112, 112, 64)      256       \n",
      "_________________________________________________________________\n",
      "conv2d_19 (Conv2D)           (None, 112, 112, 64)      36928     \n",
      "_________________________________________________________________\n",
      "batch_normalization_19 (Batc (None, 112, 112, 64)      256       \n",
      "_________________________________________________________________\n",
      "max_pooling2d_9 (MaxPooling2 (None, 56, 56, 64)        0         \n",
      "_________________________________________________________________\n",
      "conv2d_20 (Conv2D)           (None, 56, 56, 128)       73856     \n",
      "_________________________________________________________________\n",
      "batch_normalization_20 (Batc (None, 56, 56, 128)       512       \n",
      "_________________________________________________________________\n",
      "conv2d_21 (Conv2D)           (None, 56, 56, 128)       147584    \n",
      "_________________________________________________________________\n",
      "batch_normalization_21 (Batc (None, 56, 56, 128)       512       \n",
      "_________________________________________________________________\n",
      "max_pooling2d_10 (MaxPooling (None, 28, 28, 128)       0         \n",
      "_________________________________________________________________\n",
      "conv2d_22 (Conv2D)           (None, 28, 28, 256)       295168    \n",
      "_________________________________________________________________\n",
      "batch_normalization_22 (Batc (None, 28, 28, 256)       1024      \n",
      "_________________________________________________________________\n",
      "conv2d_23 (Conv2D)           (None, 28, 28, 256)       590080    \n",
      "_________________________________________________________________\n",
      "batch_normalization_23 (Batc (None, 28, 28, 256)       1024      \n",
      "_________________________________________________________________\n",
      "max_pooling2d_11 (MaxPooling (None, 14, 14, 256)       0         \n",
      "_________________________________________________________________\n",
      "dropout_4 (Dropout)          (None, 14, 14, 256)       0         \n",
      "_________________________________________________________________\n",
      "flatten_4 (Flatten)          (None, 50176)             0         \n",
      "_________________________________________________________________\n",
      "dense_18 (Dense)             (None, 128)               6422656   \n",
      "_________________________________________________________________\n",
      "dense_19 (Dense)             (None, 128)               16512     \n",
      "_________________________________________________________________\n",
      "dense_20 (Dense)             (None, 2)                 258       \n",
      "=================================================================\n",
      "Total params: 7,615,522\n",
      "Trainable params: 7,613,602\n",
      "Non-trainable params: 1,920\n",
      "_________________________________________________________________\n"
     ]
    }
   ],
   "source": [
    "naive.summary()"
   ]
  },
  {
   "cell_type": "code",
   "execution_count": 35,
   "metadata": {},
   "outputs": [
    {
     "name": "stdout",
     "output_type": "stream",
     "text": [
      "Found 15585 images belonging to 2 classes.\n"
     ]
    }
   ],
   "source": [
    "generator = ImageDataGenerator(rescale=1./255,rotation_range=20, width_shift_range=0.2,height_shift_range=0.2, zoom_range=0.2)\n",
    "augmentor = generator.flow_from_directory('full/', target_size=(224,224), color_mode = 'rgb', batch_size=50) "
   ]
  },
  {
   "cell_type": "code",
   "execution_count": 44,
   "metadata": {
    "scrolled": false
   },
   "outputs": [
    {
     "name": "stdout",
     "output_type": "stream",
     "text": [
      "Epoch 1/15\n",
      "312/312 [==============================] - 100s 321ms/step - loss: 0.0474 - accuracy: 0.9845 - val_loss: 4.8692 - val_accuracy: 0.6466\n",
      "Epoch 2/15\n",
      "312/312 [==============================] - 98s 315ms/step - loss: 0.0478 - accuracy: 0.9848 - val_loss: 6.3804 - val_accuracy: 0.5915\n",
      "Epoch 3/15\n",
      "312/312 [==============================] - 106s 340ms/step - loss: 0.0544 - accuracy: 0.9838 - val_loss: 2.7412 - val_accuracy: 0.6514\n",
      "Epoch 4/15\n",
      "312/312 [==============================] - 98s 312ms/step - loss: 0.0501 - accuracy: 0.9864 - val_loss: 4.6567 - val_accuracy: 0.6189\n",
      "Epoch 5/15\n",
      "312/312 [==============================] - 94s 301ms/step - loss: 0.0231 - accuracy: 0.9940 - val_loss: 4.6731 - val_accuracy: 0.6596\n",
      "Epoch 6/15\n",
      "312/312 [==============================] - 97s 311ms/step - loss: 0.0352 - accuracy: 0.9897 - val_loss: 7.5108 - val_accuracy: 0.5729\n",
      "Epoch 7/15\n",
      "312/312 [==============================] - 97s 309ms/step - loss: 0.0599 - accuracy: 0.9848 - val_loss: 5.4412 - val_accuracy: 0.6192\n",
      "Epoch 8/15\n",
      "312/312 [==============================] - 93s 298ms/step - loss: 0.0233 - accuracy: 0.9940 - val_loss: 4.8517 - val_accuracy: 0.6339\n",
      "Epoch 9/15\n",
      "312/312 [==============================] - 99s 318ms/step - loss: 0.0136 - accuracy: 0.9953 - val_loss: 5.3160 - val_accuracy: 0.6319\n",
      "Epoch 10/15\n",
      "312/312 [==============================] - 98s 315ms/step - loss: 0.0137 - accuracy: 0.9961 - val_loss: 8.1871 - val_accuracy: 0.6161\n",
      "Epoch 11/15\n",
      "312/312 [==============================] - 96s 307ms/step - loss: 0.0330 - accuracy: 0.9910 - val_loss: 4.5202 - val_accuracy: 0.6446\n",
      "Epoch 12/15\n",
      "312/312 [==============================] - 92s 294ms/step - loss: 0.0188 - accuracy: 0.9944 - val_loss: 4.3302 - val_accuracy: 0.6438\n",
      "Epoch 13/15\n",
      "312/312 [==============================] - 89s 283ms/step - loss: 0.0078 - accuracy: 0.9980 - val_loss: 8.1970 - val_accuracy: 0.5825\n",
      "Epoch 14/15\n",
      "312/312 [==============================] - 89s 286ms/step - loss: 0.0124 - accuracy: 0.9971 - val_loss: 3.1217 - val_accuracy: 0.6938\n",
      "Epoch 15/15\n",
      "312/312 [==============================] - 93s 299ms/step - loss: 0.0112 - accuracy: 0.9974 - val_loss: 5.6409 - val_accuracy: 0.6206\n",
      "66/66 [==============================] - 18s 277ms/step - loss: 11.2545 - accuracy: 0.4911\n"
     ]
    },
    {
     "data": {
      "text/plain": [
       "[11.254483222961426, 0.4910579025745392]"
      ]
     },
     "execution_count": 44,
     "metadata": {},
     "output_type": "execute_result"
    }
   ],
   "source": [
    "callback = ModelCheckpoint(filepath='checkpoint/check.ckpt', save_weights_only=True, monitor='val_accuracy', mode='max', save_best_only=True)\n",
    "baseHistory = naive.fit(train, epochs=15, validation_data=val, callbacks=[callback])\n",
    "naive.load_weights('checkpoint/check.ckpt')\n",
    "naive.evaluate(test)\n"
   ]
  },
  {
   "cell_type": "code",
   "execution_count": 45,
   "metadata": {},
   "outputs": [
    {
     "name": "stdout",
     "output_type": "stream",
     "text": [
      "Epoch 1/15\n",
      "312/312 [==============================] - 244s 782ms/step - loss: 0.8310 - accuracy: 0.5496 - val_loss: 0.6600 - val_accuracy: 0.5997\n",
      "Epoch 2/15\n",
      "312/312 [==============================] - 251s 803ms/step - loss: 0.5817 - accuracy: 0.6918 - val_loss: 2.0288 - val_accuracy: 0.4989\n",
      "Epoch 3/15\n",
      "312/312 [==============================] - 251s 804ms/step - loss: 0.3986 - accuracy: 0.8225 - val_loss: 1.3944 - val_accuracy: 0.6486\n",
      "Epoch 4/15\n",
      "312/312 [==============================] - 251s 805ms/step - loss: 0.2656 - accuracy: 0.8898 - val_loss: 0.8719 - val_accuracy: 0.6915\n",
      "Epoch 5/15\n",
      "312/312 [==============================] - 244s 782ms/step - loss: 0.1846 - accuracy: 0.9265 - val_loss: 0.6326 - val_accuracy: 0.7407\n",
      "Epoch 6/15\n",
      "312/312 [==============================] - 235s 753ms/step - loss: 0.1307 - accuracy: 0.9498 - val_loss: 1.7967 - val_accuracy: 0.6983\n",
      "Epoch 7/15\n",
      "312/312 [==============================] - 231s 741ms/step - loss: 0.1065 - accuracy: 0.9605 - val_loss: 1.0086 - val_accuracy: 0.6921\n",
      "Epoch 8/15\n",
      "312/312 [==============================] - 232s 742ms/step - loss: 0.0913 - accuracy: 0.9683 - val_loss: 2.0471 - val_accuracy: 0.6483\n",
      "Epoch 9/15\n",
      "312/312 [==============================] - 230s 738ms/step - loss: 0.0770 - accuracy: 0.9724 - val_loss: 0.8278 - val_accuracy: 0.7568\n",
      "Epoch 10/15\n",
      "312/312 [==============================] - 230s 737ms/step - loss: 0.0639 - accuracy: 0.9771 - val_loss: 0.4007 - val_accuracy: 0.8387\n",
      "Epoch 11/15\n",
      "312/312 [==============================] - 232s 744ms/step - loss: 0.0532 - accuracy: 0.9810 - val_loss: 0.4961 - val_accuracy: 0.8169\n",
      "Epoch 12/15\n",
      "312/312 [==============================] - 232s 742ms/step - loss: 0.0545 - accuracy: 0.9815 - val_loss: 1.1557 - val_accuracy: 0.7350\n",
      "Epoch 13/15\n",
      "312/312 [==============================] - 232s 743ms/step - loss: 0.0464 - accuracy: 0.9839 - val_loss: 2.2169 - val_accuracy: 0.6387\n",
      "Epoch 14/15\n",
      "312/312 [==============================] - 232s 742ms/step - loss: 0.0451 - accuracy: 0.9850 - val_loss: 1.2171 - val_accuracy: 0.7192\n",
      "Epoch 15/15\n",
      "312/312 [==============================] - 234s 749ms/step - loss: 0.0409 - accuracy: 0.9860 - val_loss: 0.3968 - val_accuracy: 0.8571\n",
      "66/66 [==============================] - 16s 242ms/step - loss: 2.3615 - accuracy: 0.6217\n"
     ]
    },
    {
     "data": {
      "text/plain": [
       "[2.361462116241455, 0.621703565120697]"
      ]
     },
     "execution_count": 45,
     "metadata": {},
     "output_type": "execute_result"
    }
   ],
   "source": [
    "augHistory = naive.fit(augmentor, epochs=15,validation_data=val, callbacks=[callback])\n",
    "naive.load_weights('checkpoint/check.ckpt')\n",
    "naive.evaluate(test)"
   ]
  },
  {
   "cell_type": "code",
   "execution_count": 46,
   "metadata": {},
   "outputs": [
    {
     "data": {
      "image/png": "[encoded data removed]",
      "text/plain": [
       "<Figure size 432x288 with 1 Axes>"
      ]
     },
     "metadata": {
      "needs_background": "light"
     },
     "output_type": "display_data"
    }
   ],
   "source": [
    "plt.plot(baseHistory.history['accuracy'])\n",
    "plt.plot(baseHistory.history['val_accuracy'])\n",
    "plt.title('Base model accuracy')\n",
    "plt.ylabel('accuracy')\n",
    "plt.xlabel('epoch')\n",
    "plt.ylim(0, 1.05)\n",
    "plt.legend(['train', 'val'], loc='upper left')\n",
    "plt.show()"
   ]
  },
  {
   "cell_type": "code",
   "execution_count": 47,
   "metadata": {
    "scrolled": true
   },
   "outputs": [
    {
     "data": {
      "image/png": "[encoded data removed]",
      "text/plain": [
       "<Figure size 432x288 with 1 Axes>"
      ]
     },
     "metadata": {
      "needs_background": "light"
     },
     "output_type": "display_data"
    }
   ],
   "source": [
    "plt.plot(augHistory.history['accuracy'])\n",
    "plt.plot(augHistory.history['val_accuracy'])\n",
    "plt.title('Augmented model accuracy')\n",
    "plt.ylabel('accuracy')\n",
    "plt.xlabel('epoch')\n",
    "plt.ylim(0, 1.05)\n",
    "plt.legend(['train', 'val'], loc='upper left')\n",
    "plt.show()"
   ]
  }
 ],
 "metadata": {
  "accelerator": "GPU",
  "colab": {
   "collapsed_sections": [],
   "name": "ML Project TL.ipynb",
   "provenance": []
  },
  "kernelspec": {
   "display_name": "TensorFlow Python3",
   "language": "python",
   "name": "tf"
  },
  "language_info": {
   "codemirror_mode": {
    "name": "ipython",
    "version": 3
   },
   "file_extension": ".py",
   "mimetype": "text/x-python",
   "name": "python",
   "nbconvert_exporter": "python",
   "pygments_lexer": "ipython3",
   "version": "3.8.8"
  }
 },
 "nbformat": 4,
 "nbformat_minor": 1
}
